{
 "cells": [
  {
   "cell_type": "code",
   "execution_count": 3,
   "metadata": {},
   "outputs": [
    {
     "name": "stdout",
     "output_type": "stream",
     "text": [
      "Recorrido inorden del árbol binario: \n",
      "3 5 10 15 "
     ]
    }
   ],
   "source": [
    "# Ejemplo de implementación de un árbol binario en Python:\n",
    "# Árboles en Python\n",
    "class Nodo:\n",
    "    def __init__(self, value):\n",
    "        self.value = value\n",
    "        self.left = None\n",
    "        self.right = None\n",
    "\n",
    "class ArbolBinario:\n",
    "    def __init__(self):\n",
    "        self.root = None\n",
    "\n",
    "    def insert(self, value):\n",
    "        if self.root is None:\n",
    "            self.root = Nodo(value)\n",
    "        else:\n",
    "            self._insert(self.root, value)\n",
    "    \n",
    "    def _insert(self, node, value):\n",
    "        if value < node.value:\n",
    "            if node.left is None:\n",
    "                node.left = Nodo(value)\n",
    "            else:\n",
    "                self._insert(node.left, value)\n",
    "        else:\n",
    "            if node.right is None:\n",
    "                node.right = Nodo(value)\n",
    "            else:\n",
    "                self._insert(node.right, value)\n",
    "    \n",
    "    def recorrer_inorden(self, node):\n",
    "        if node:\n",
    "            self.recorrer_inorden(node.left)\n",
    "            print(node.value, end=' ')\n",
    "            self.recorrer_inorden(node.right)\n",
    "\n",
    "# Uso del árbol binario\n",
    "tree = ArbolBinario()\n",
    "tree.insert(10)\n",
    "tree.insert(5)\n",
    "tree.insert(15)\n",
    "tree.insert(3)\n",
    "\n",
    "print(\"Recorrido inorden del árbol binario: \")\n",
    "tree.recorrer_inorden(tree.root)"
   ]
  },
  {
   "cell_type": "code",
   "execution_count": 4,
   "metadata": {},
   "outputs": [
    {
     "name": "stdout",
     "output_type": "stream",
     "text": [
      "Name:  Carlos\n",
      "name: Carlos\n",
      "age: 25\n",
      "city: Jerez de la frontera\n",
      "ocupacion: Policia\n",
      "La edad está en el mapa: 25\n"
     ]
    }
   ],
   "source": [
    "# Mapas en Python\n",
    "# Crear un diccionario\n",
    "map = {\n",
    "    \"name\": \"Carlos\",\n",
    "    \"age\": 25,\n",
    "    \"city\": \"Jerez de la frontera\"\n",
    "}\n",
    "\n",
    "# Acceder a un valor\n",
    "print(\"Name: \", map[\"name\"])\n",
    "\n",
    "# Añadir un nuevo par clave-valor\n",
    "map[\"ocupacion\"] = \"Policia\"\n",
    "\n",
    "# Iterar sobre el diccionario\n",
    "for key, value in map.items():\n",
    "    print(f\"{key}: {value}\")\n",
    "\n",
    "# Verificar si una clave está en el diccionario\n",
    "if \"age\" in map:\n",
    "    print(\"La edad está en el mapa:\",map[\"age\"])"
   ]
  }
 ],
 "metadata": {
  "kernelspec": {
   "display_name": "base",
   "language": "python",
   "name": "python3"
  },
  "language_info": {
   "codemirror_mode": {
    "name": "ipython",
    "version": 3
   },
   "file_extension": ".py",
   "mimetype": "text/x-python",
   "name": "python",
   "nbconvert_exporter": "python",
   "pygments_lexer": "ipython3",
   "version": "3.12.4"
  }
 },
 "nbformat": 4,
 "nbformat_minor": 2
}
