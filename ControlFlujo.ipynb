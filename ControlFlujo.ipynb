{
 "cells": [
  {
   "cell_type": "code",
   "execution_count": null,
   "metadata": {},
   "outputs": [],
   "source": [
    "'''\n",
    "En Python, el control de flujo permite dirigir la ejecución del código según ciertas condiciones, \n",
    "repitiendo partes del código o tomando decisiones. \n",
    "Existen varios mecanismos para controlar el flujo de un programa:\n",
    "'''\n",
    "\n",
    "# 1. Estructuras Condicionales\n",
    "x = 4\n",
    "if x > 5:\n",
    "    print(\"x es mayor que 5\")\n",
    "elif x == 5:\n",
    "    print(\"x es igual a 5\")\n",
    "else:\n",
    "    print(\"x es menor 5\")\n",
    "\n",
    "'''\n",
    "if: Se ejecuta si la condición es verdadera.\n",
    "\n",
    "elif: Opcional, para probar múltiples condiciones.\n",
    "\n",
    "else: Se ejecuta si ninguna condición anterior fue verdadera.\n",
    "'''"
   ]
  },
  {
   "cell_type": "code",
   "execution_count": null,
   "metadata": {},
   "outputs": [],
   "source": [
    "# 2. Bucles\n",
    "# for\n",
    "# Iterar sobre una lista\n",
    "frutas = [\"melón\", \"fresa\", \"manzana\"]\n",
    "for frutas in frutas:\n",
    "    print(frutas)\n",
    "\n",
    "# Iterar sobre un rango de números\n",
    "for i in range(10 + 1):\n",
    "    print(i)"
   ]
  },
  {
   "cell_type": "code",
   "execution_count": null,
   "metadata": {},
   "outputs": [],
   "source": [
    "# while\n",
    "# Este bucle repite el bloque de código mientras la condición sea verdadera.\n",
    "i = 0\n",
    "while i <= 5:\n",
    "    print(i)\n",
    "    i += 1 # Incrementar para evitar un bucle infinito"
   ]
  },
  {
   "cell_type": "code",
   "execution_count": null,
   "metadata": {},
   "outputs": [],
   "source": [
    "# continue\n",
    "# Salta la iteración actual y pasa a la siguiente.\n",
    "for i in range(15):\n",
    "    if i == 15:\n",
    "        break # Sale del bucle cuando i es 5\n",
    "    print(i) "
   ]
  },
  {
   "cell_type": "code",
   "execution_count": 14,
   "metadata": {},
   "outputs": [],
   "source": [
    "# pass\n",
    "# Se utiliza como un marcador de posición para estructuras vacías, permitiendo que el código sea sintácticamente correcto.\n",
    "if x > 5:\n",
    "    pass # No se hace nada aquí, pero se evita un error de sintaxis"
   ]
  },
  {
   "cell_type": "code",
   "execution_count": null,
   "metadata": {},
   "outputs": [],
   "source": [
    "# 4. Compresión de Listas (List Comprehension)\n",
    "# Permite crear listas de manera compacta y eficiente, incorporando condicionales y bucles dentro de una única línea.\n",
    "cuadrados_pares = [x**2 for x in range(10) if x % 2 == 0]\n",
    "print(cuadrados_pares) # Output: [0, 4, 16, 36, 64]"
   ]
  },
  {
   "cell_type": "code",
   "execution_count": 29,
   "metadata": {},
   "outputs": [
    {
     "name": "stdout",
     "output_type": "stream",
     "text": [
      "Employee: Carlos, Salary: 60.000€ al año.\n",
      "Carlos está diseñando un sistema en su área de Software.\n",
      "Employee: Lucía, Salary: 90000€ al año.\n",
      "Lucía está gestionando el departamento de Finanzas.\n",
      "Lucía aprueba el presupuesto del departamento Finanzas.\n"
     ]
    }
   ],
   "source": [
    "'''\n",
    "un ejemplo más sofisticado donde pass se utiliza en un contexto más amplio, como una arquitectura de clases \n",
    "en un sistema de gestión de empleados. Imagina que estás diseñando una jerarquía de clases para diferentes \n",
    "tipos de empleados y roles en una empresa, pero aún no has implementado todos los métodos específicos para cada \n",
    "tipo de empleado.\n",
    "'''\n",
    "# Ejemplo: Sistema de gestión de empleados\n",
    "class Employee:\n",
    "    def __init__(self, name, salary):\n",
    "        self.name = name\n",
    "        self.salary = salary\n",
    "    def working(self):\n",
    "        pass # Será implementado por las clases hijas\n",
    "\n",
    "    def details(self):\n",
    "        return f\"Employee: {self.name}, Salary: {self.salary}\"\n",
    "\n",
    "class Engineer(Employee):\n",
    "    def __init__(self, name, salary, master):\n",
    "        super().__init__(name, salary)\n",
    "        self.master = master\n",
    "    def working(self):\n",
    "        print(f\"{self.name} está diseñando un sistema en su área de {self.master}.\")\n",
    "\n",
    "class Manager(Employee):\n",
    "    def __init__(self, name, salary, department):\n",
    "        super().__init__(name, salary)\n",
    "        self.department = department\n",
    "    \n",
    "    def working(self):\n",
    "        print(f\"{self.name} está gestionando el departamento de {self.department}.\")\n",
    "\n",
    "    def aprobar_presupuesto(self):\n",
    "        print(f\"{self.name} aprueba el presupuesto del departamento {self.department}.\")\n",
    "\n",
    "# Uso de las clases\n",
    "employees = [\n",
    "    Engineer(\"Carlos\", \"60.000€ al año.\", \"Software\"),\n",
    "    Manager(\"Lucía\", \"90000€ al año.\", \"Finanzas\")\n",
    "]\n",
    "\n",
    "for employee in employees:\n",
    "    print(employee.details())\n",
    "    employee.working()\n",
    "\n",
    "# implementando la lógica de aprobación de presupuesto\n",
    "lucia = employees[1]\n",
    "lucia.aprobar_presupuesto() \n"
   ]
  }
 ],
 "metadata": {
  "kernelspec": {
   "display_name": "base",
   "language": "python",
   "name": "python3"
  },
  "language_info": {
   "codemirror_mode": {
    "name": "ipython",
    "version": 3
   },
   "file_extension": ".py",
   "mimetype": "text/x-python",
   "name": "python",
   "nbconvert_exporter": "python",
   "pygments_lexer": "ipython3",
   "version": "3.12.4"
  }
 },
 "nbformat": 4,
 "nbformat_minor": 2
}
